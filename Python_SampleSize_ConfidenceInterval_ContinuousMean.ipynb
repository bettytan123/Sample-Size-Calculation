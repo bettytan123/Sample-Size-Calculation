{
  "cells": [
    {
      "cell_type": "markdown",
      "metadata": {
        "id": "view-in-github",
        "colab_type": "text"
      },
      "source": [
        "<a href=\"https://colab.research.google.com/github/bettytan123/Sample-Size-Calculation/blob/main/Python_SampleSize_ConfidenceInterval_ContinuousMean.ipynb\" target=\"_parent\"><img src=\"https://colab.research.google.com/assets/colab-badge.svg\" alt=\"Open In Colab\"/></a>"
      ]
    },
    {
      "cell_type": "code",
      "execution_count": 2,
      "id": "969740c6",
      "metadata": {
        "id": "969740c6"
      },
      "outputs": [],
      "source": [
        "############################################\n",
        "## This script will simulate data from known statistical distirbutions; then estimate GAN and sample from it\n",
        "##\n",
        "## Authors: Betty and Chris, feat David\n",
        "## Date: February 2023\n",
        "############################################"
      ]
    },
    {
      "cell_type": "markdown",
      "source": [
        "# Sample Size Confidence Interval"
      ],
      "metadata": {
        "id": "YwxveoCvJXPe"
      },
      "id": "YwxveoCvJXPe"
    },
    {
      "cell_type": "code",
      "source": [
        "! pip install sdv --quiet\n",
        "! pip install --upgrade scipy --quiet"
      ],
      "metadata": {
        "colab": {
          "base_uri": "https://localhost:8080/"
        },
        "id": "6GdAB98q_Nkk",
        "outputId": "1c4379a0-9d2e-43f2-cb4c-515879c405d2"
      },
      "id": "6GdAB98q_Nkk",
      "execution_count": 3,
      "outputs": [
        {
          "output_type": "stream",
          "name": "stdout",
          "text": [
            "\u001b[2K     \u001b[90m━━━━━━━━━━━━━━━━━━━━━━━━━━━━━━━━━━━━━━━\u001b[0m \u001b[32m103.2/103.2 KB\u001b[0m \u001b[31m8.5 MB/s\u001b[0m eta \u001b[36m0:00:00\u001b[0m\n",
            "\u001b[2K     \u001b[90m━━━━━━━━━━━━━━━━━━━━━━━━━━━━━━━━━━━━━━━━\u001b[0m \u001b[32m63.6/63.6 KB\u001b[0m \u001b[31m6.9 MB/s\u001b[0m eta \u001b[36m0:00:00\u001b[0m\n",
            "\u001b[2K     \u001b[90m━━━━━━━━━━━━━━━━━━━━━━━━━━━━━━━━━━━━━━━━\u001b[0m \u001b[32m1.6/1.6 MB\u001b[0m \u001b[31m79.7 MB/s\u001b[0m eta \u001b[36m0:00:00\u001b[0m\n",
            "\u001b[2K     \u001b[90m━━━━━━━━━━━━━━━━━━━━━━━━━━━━━━━━━━━━━━\u001b[0m \u001b[32m140.0/140.0 KB\u001b[0m \u001b[31m15.9 MB/s\u001b[0m eta \u001b[36m0:00:00\u001b[0m\n",
            "\u001b[2K     \u001b[90m━━━━━━━━━━━━━━━━━━━━━━━━━━━━━━━━━━━━━━━━\u001b[0m \u001b[32m47.0/47.0 KB\u001b[0m \u001b[31m5.3 MB/s\u001b[0m eta \u001b[36m0:00:00\u001b[0m\n",
            "\u001b[2K     \u001b[90m━━━━━━━━━━━━━━━━━━━━━━━━━━━━━━━━━━━━━━━━\u001b[0m \u001b[32m53.6/53.6 KB\u001b[0m \u001b[31m6.4 MB/s\u001b[0m eta \u001b[36m0:00:00\u001b[0m\n",
            "\u001b[2K     \u001b[90m━━━━━━━━━━━━━━━━━━━━━━━━━━━━━━━━━━━━━━━━\u001b[0m \u001b[32m9.2/9.2 MB\u001b[0m \u001b[31m107.1 MB/s\u001b[0m eta \u001b[36m0:00:00\u001b[0m\n",
            "\u001b[2K     \u001b[90m━━━━━━━━━━━━━━━━━━━━━━━━━━━━━━━━━━━━━━━━\u001b[0m \u001b[32m40.8/40.8 KB\u001b[0m \u001b[31m4.6 MB/s\u001b[0m eta \u001b[36m0:00:00\u001b[0m\n",
            "\u001b[2K     \u001b[90m━━━━━━━━━━━━━━━━━━━━━━━━━━━━━━━━━━━━━━\u001b[0m \u001b[32m280.2/280.2 KB\u001b[0m \u001b[31m30.9 MB/s\u001b[0m eta \u001b[36m0:00:00\u001b[0m\n",
            "\u001b[2K     \u001b[90m━━━━━━━━━━━━━━━━━━━━━━━━━━━━━━━━━━━━━━━━\u001b[0m \u001b[32m15.2/15.2 MB\u001b[0m \u001b[31m74.8 MB/s\u001b[0m eta \u001b[36m0:00:00\u001b[0m\n",
            "\u001b[2K     \u001b[90m━━━━━━━━━━━━━━━━━━━━━━━━━━━━━━━━━━━━━━\u001b[0m \u001b[32m300.0/300.0 KB\u001b[0m \u001b[31m16.3 MB/s\u001b[0m eta \u001b[36m0:00:00\u001b[0m\n",
            "\u001b[2K     \u001b[90m━━━━━━━━━━━━━━━━━━━━━━━━━━━━━━━━━━━━━━\u001b[0m \u001b[32m965.4/965.4 KB\u001b[0m \u001b[31m27.0 MB/s\u001b[0m eta \u001b[36m0:00:00\u001b[0m\n",
            "\u001b[2K     \u001b[90m━━━━━━━━━━━━━━━━━━━━━━━━━━━━━━━━━━━━━━━━\u001b[0m \u001b[32m34.5/34.5 MB\u001b[0m \u001b[31m13.8 MB/s\u001b[0m eta \u001b[36m0:00:00\u001b[0m\n",
            "\u001b[?25h"
          ]
        }
      ]
    },
    {
      "cell_type": "code",
      "execution_count": 4,
      "id": "718ec3e3",
      "metadata": {
        "id": "718ec3e3"
      },
      "outputs": [],
      "source": [
        "########################\n",
        "## Import dependency packages\n",
        "########################\n",
        "\n",
        "## Import SDV for GANs and sampling mechanisms, etc.\n",
        "from sdv.tabular import CTGAN\n",
        "\n",
        "## Import pandas for data structures\n",
        "import pandas as pd\n",
        "\n",
        "## Import numpy for numerical computing\n",
        "import numpy as np\n",
        "\n",
        "## Import scipy for statistical distirbution function \n",
        "import scipy\n",
        "\n",
        "## For plotting\n",
        "import matplotlib.pyplot as plt\n",
        "\n",
        "## For timing\n",
        "from time import time\n",
        "\n",
        "## Random Numbers\n",
        "import random\n",
        "\n",
        "# For progress bars\n",
        "from tqdm.notebook import tqdm, trange\n",
        "\n",
        "# Do not display warnings (bad practice)\n",
        "import warnings\n",
        "warnings.filterwarnings(\"ignore\")\n",
        "\n",
        "#able to faster the process \n",
        "import torch\n"
      ]
    },
    {
      "cell_type": "code",
      "execution_count": 5,
      "id": "58a0cdfe",
      "metadata": {
        "id": "58a0cdfe"
      },
      "outputs": [],
      "source": [
        "## Set seed \n",
        "random.seed(12345)"
      ]
    },
    {
      "cell_type": "code",
      "execution_count": 6,
      "id": "40882950",
      "metadata": {
        "id": "40882950"
      },
      "outputs": [],
      "source": [
        "#####################################\n",
        "##\n",
        "## Sample Size for Precision of a Continuous Normal Random Variable --- by Mathemtical Theory\n",
        "##\n",
        "#####################################"
      ]
    },
    {
      "cell_type": "code",
      "execution_count": 7,
      "id": "dc44b869",
      "metadata": {
        "colab": {
          "base_uri": "https://localhost:8080/"
        },
        "id": "dc44b869",
        "outputId": "3a541509-6f2c-4b5e-9ad8-ba9f2949c996"
      },
      "outputs": [
        {
          "output_type": "execute_result",
          "data": {
            "text/plain": [
              "-1.9599639845400545"
            ]
          },
          "metadata": {},
          "execution_count": 7
        }
      ],
      "source": [
        "scipy.stats.norm.ppf(q=0.025, loc=0, scale=1)"
      ]
    },
    {
      "cell_type": "code",
      "execution_count": 8,
      "id": "8dd33e51",
      "metadata": {
        "id": "8dd33e51"
      },
      "outputs": [],
      "source": [
        "## Sample size by math\n",
        "def samp_size_cont_ci(alpha, width, sigma):\n",
        "    Number = (4 * (scipy.stats.norm.ppf(q=alpha/2, loc=0, scale=1)**2) * (sigma**2) ) / (width**2)\n",
        "    return Number "
      ]
    },
    {
      "cell_type": "code",
      "execution_count": 9,
      "id": "0f84fb83",
      "metadata": {
        "colab": {
          "base_uri": "https://localhost:8080/"
        },
        "id": "0f84fb83",
        "outputId": "fa5eaab6-6f1f-40c2-aad9-d232af4ee463"
      },
      "outputs": [
        {
          "output_type": "execute_result",
          "data": {
            "text/plain": [
              "42.6828757854903"
            ]
          },
          "metadata": {},
          "execution_count": 9
        }
      ],
      "source": [
        "samp_size_cont_ci(alpha=0.05, width=0.6, sigma=1) # 42.68288"
      ]
    },
    {
      "cell_type": "code",
      "execution_count": 10,
      "id": "71b9bccd",
      "metadata": {
        "id": "71b9bccd"
      },
      "outputs": [],
      "source": [
        "#################################\n",
        "##\n",
        "## Sample Size for Precision of a Continuous Normal Random Variable --- by numerical simulation\n",
        "##\n",
        "################################"
      ]
    },
    {
      "cell_type": "markdown",
      "source": [
        "## Sample Size for Precision of a Continuous Normal Random Variable --- by numerical simulation\n"
      ],
      "metadata": {
        "id": "8NFxy_yoJe3-"
      },
      "id": "8NFxy_yoJe3-"
    },
    {
      "cell_type": "code",
      "execution_count": 11,
      "id": "db02a304",
      "metadata": {
        "id": "db02a304"
      },
      "outputs": [],
      "source": [
        "mean = 0\n",
        "sd = 1\n",
        "n = int(np.ceil(samp_size_cont_ci(alpha=0.05, width=0.6, sigma=1)))\n",
        "\n",
        "## Generate random data\n",
        "x = np.random.normal(loc=mean, scale=sd, size=n)\n",
        "## Analyze generated/simulated data\n",
        "res = scipy.stats.ttest_1samp(x, popmean=mean, axis=0, \n",
        "                        nan_policy='propagate', \n",
        "                        alternative='two-sided')"
      ]
    },
    {
      "cell_type": "code",
      "execution_count": 12,
      "id": "7b62af94",
      "metadata": {
        "colab": {
          "base_uri": "https://localhost:8080/"
        },
        "id": "7b62af94",
        "outputId": "924c228a-c53c-4733-f7b1-7ceaa78729f5"
      },
      "outputs": [
        {
          "output_type": "execute_result",
          "data": {
            "text/plain": [
              "TtestResult(statistic=1.067948122506726, pvalue=0.2916439828881932, df=42)"
            ]
          },
          "metadata": {},
          "execution_count": 12
        }
      ],
      "source": [
        "res"
      ]
    },
    {
      "cell_type": "code",
      "execution_count": 13,
      "id": "600722e8",
      "metadata": {
        "id": "600722e8"
      },
      "outputs": [],
      "source": [
        "def norm_ci_samp_size(n, mean, sd):\n",
        "    ## Generate random data\n",
        "    x = np.random.normal(loc=mean, scale = sd, size=n)\n",
        "    ## Analyze generated/simulated data\n",
        "    res = scipy.stats.ttest_1samp(x, popmean=mean, axis=0, \n",
        "                        nan_policy='propagate', \n",
        "                        alternative='two-sided')\n",
        "    \n",
        "    ## Extract the estimate and CI\n",
        "    p_ll, p_ul = res.confidence_interval(0.95)\n",
        "    p_hat = np.mean(x)\n",
        "    \n",
        "    # Return the estimate and the CI to the user\n",
        "    # [] make it a list instead of scalar\n",
        "    out = pd.DataFrame({'mean': [p_hat],\n",
        "                        'll95_mean': [p_ll],\n",
        "                        'ul95_mean': [p_ul]})\n",
        "    \n",
        "    return(out)\n"
      ]
    },
    {
      "cell_type": "code",
      "execution_count": 14,
      "id": "bd9ccf1f",
      "metadata": {
        "colab": {
          "base_uri": "https://localhost:8080/"
        },
        "id": "bd9ccf1f",
        "outputId": "82aa9451-adc3-4209-bd55-75b51b00a9cd"
      },
      "outputs": [
        {
          "output_type": "stream",
          "name": "stdout",
          "text": [
            "runtime is 9.1525559425354\n",
            "sim_means is mean         0.001715\n",
            "ll95_mean   -0.304443\n",
            "ul95_mean    0.307874\n",
            "dtype: float64\n",
            "ci_width is 0.6123173531216268\n"
          ]
        }
      ],
      "source": [
        "## Replicate above function number of simulation replicate times\n",
        "\n",
        "# parameter available  \n",
        "n = int(np.ceil(samp_size_cont_ci(alpha=0.05, width=0.6, sigma=1)))\n",
        "mean = 0\n",
        "sd = 1\n",
        "\n",
        "## Number simulation replicates\n",
        "n_rep = 10000\n",
        "\n",
        "## Simulate n_rep copies of sample size trials\n",
        "sim_out = []\n",
        "\n",
        "#Record start time\n",
        "t0 = time()\n",
        "\n",
        "## Loop over number simulation replicates, storing results in list\n",
        "for i in range(0, n_rep):\n",
        "    sim_out.append(norm_ci_samp_size(n=n, mean=mean, sd=sd))\n",
        "\n",
        "#Record end time\n",
        "t1 = time()\n",
        "\n",
        "#Calculate runtime\n",
        "runtime = t1 - t0\n",
        "print(f'runtime is {runtime}')\n",
        "\n",
        "### Aggregate results into dataframe\n",
        "sim_df = pd.concat(sim_out)\n",
        "\n",
        "#Calculate means of each column in the array #axis means column mean \n",
        "sim_means = np.mean(sim_df, axis=0)\n",
        "print(f'sim_means is {sim_means}')\n",
        "\n",
        "#Calculate the width of the confidence interval\n",
        "ci_width = sim_means[2] - sim_means[1]\n",
        "print(f'ci_width is {ci_width}')"
      ]
    },
    {
      "cell_type": "markdown",
      "source": [
        "## Sample Size for Precision of a Continuous Normal Random Variable --- by GAN (generative adversarial network) just fitting once (i.e., one input\n"
      ],
      "metadata": {
        "id": "FbdATfgfJmZl"
      },
      "id": "FbdATfgfJmZl"
    },
    {
      "cell_type": "code",
      "source": [
        "# np.random.seed(42)\n",
        "\n",
        "# parameter available \n",
        "pop_n = 200_000 ## This is the most interesting parameter to vary...\n",
        "pop_mu = pop_mean = 0\n",
        "pop_sd = 1\n",
        "sim_n = int(np.ceil(samp_size_cont_ci(alpha=0.05, width=0.6, sigma=1)))\n",
        "\n",
        "# Parameters of normal parent distribution\n",
        "mu = 0\n",
        "sd = 0.1\n",
        "n = 1000\n",
        "\n",
        "## Simulate data as input to GAN\n",
        "x = np.random.normal(loc=pop_mu, scale=pop_sd, size=pop_n)\n",
        "\n",
        "## Convert numpy vector to pandas Series and plot the histogram/density\n",
        "# pd.Series(x).hist(bins=100)\n",
        "\n",
        "## Convert vector to pandas dataFrame\n",
        "x_pd = pd.DataFrame({\"x\": x})\n",
        "# x_pd\n",
        "\n",
        "\n",
        "## Feed the simulated data into SDV and sample synthetic data from the fitted GAN\n",
        "## Instantiate an SDV class object\n",
        "model = CTGAN(\n",
        "    epochs=300,\n",
        "    cuda=True,\n",
        "    batch_size=10_000,\n",
        "    verbose=True\n",
        ")\n",
        "\n",
        "## Fit a GAN to the simulated data from above\n",
        "t0 = time()\n",
        "model.fit(x_pd)\n",
        "t1 = time()\n",
        "runtime = t1-t0\n",
        "\n",
        "def sim_gan_data2(pop_mu, pop_sd, pop_n, sim_n, model):\n",
        "    ## Sample synthetic data from the trained GAN\n",
        "    sampled = model.sample(num_rows=sim_n)\n",
        "    \n",
        "    return(sampled)"
      ],
      "metadata": {
        "id": "W_9wd_iPJujN",
        "colab": {
          "base_uri": "https://localhost:8080/"
        },
        "outputId": "59dd50ea-a11c-4940-dd7d-bd371aa878de"
      },
      "id": "W_9wd_iPJujN",
      "execution_count": 24,
      "outputs": [
        {
          "output_type": "stream",
          "name": "stdout",
          "text": [
            "Epoch 1, Loss G: -0.0333,Loss D:  0.0824\n",
            "Epoch 2, Loss G: -0.0702,Loss D:  0.1741\n",
            "Epoch 3, Loss G:  0.1126,Loss D: -0.0835\n",
            "Epoch 4, Loss G:  0.1710,Loss D: -0.1624\n",
            "Epoch 5, Loss G:  0.0738,Loss D: -0.0987\n",
            "Epoch 6, Loss G: -0.1755,Loss D:  0.0700\n",
            "Epoch 7, Loss G: -0.0864,Loss D: -0.0879\n",
            "Epoch 8, Loss G: -0.2201,Loss D:  0.0153\n",
            "Epoch 9, Loss G: -0.2559,Loss D:  0.0530\n",
            "Epoch 10, Loss G: -0.2320,Loss D: -0.0001\n",
            "Epoch 11, Loss G: -0.2339,Loss D: -0.0055\n",
            "Epoch 12, Loss G: -0.2521,Loss D: -0.0242\n",
            "Epoch 13, Loss G: -0.2654,Loss D: -0.0464\n",
            "Epoch 14, Loss G: -0.3108,Loss D:  0.0231\n",
            "Epoch 15, Loss G: -0.3412,Loss D: -0.0051\n",
            "Epoch 16, Loss G: -0.3371,Loss D: -0.0445\n",
            "Epoch 17, Loss G: -0.4108,Loss D: -0.0052\n",
            "Epoch 18, Loss G: -0.4297,Loss D: -0.0258\n",
            "Epoch 19, Loss G: -0.4824,Loss D: -0.0555\n",
            "Epoch 20, Loss G: -0.5591,Loss D: -0.0191\n",
            "Epoch 21, Loss G: -0.5404,Loss D: -0.0492\n",
            "Epoch 22, Loss G: -0.5752,Loss D: -0.0400\n",
            "Epoch 23, Loss G: -0.5245,Loss D: -0.0482\n",
            "Epoch 24, Loss G: -0.5539,Loss D: -0.0308\n",
            "Epoch 25, Loss G: -0.5470,Loss D: -0.0651\n",
            "Epoch 26, Loss G: -0.5088,Loss D: -0.0639\n",
            "Epoch 27, Loss G: -0.5509,Loss D: -0.0549\n",
            "Epoch 28, Loss G: -0.5923,Loss D: -0.0726\n",
            "Epoch 29, Loss G: -0.6126,Loss D: -0.0368\n",
            "Epoch 30, Loss G: -0.6172,Loss D: -0.0438\n",
            "Epoch 31, Loss G: -0.6286,Loss D: -0.0419\n",
            "Epoch 32, Loss G: -0.6004,Loss D: -0.0704\n",
            "Epoch 33, Loss G: -0.6155,Loss D: -0.1098\n",
            "Epoch 34, Loss G: -0.5168,Loss D: -0.1209\n",
            "Epoch 35, Loss G: -0.5500,Loss D: -0.0969\n",
            "Epoch 36, Loss G: -0.5360,Loss D: -0.0961\n",
            "Epoch 37, Loss G: -0.5540,Loss D: -0.0643\n",
            "Epoch 38, Loss G: -0.5845,Loss D: -0.0709\n",
            "Epoch 39, Loss G: -0.5105,Loss D: -0.1156\n",
            "Epoch 40, Loss G: -0.5484,Loss D: -0.0997\n",
            "Epoch 41, Loss G: -0.5069,Loss D: -0.0991\n",
            "Epoch 42, Loss G: -0.5540,Loss D: -0.0946\n",
            "Epoch 43, Loss G: -0.4919,Loss D: -0.0699\n",
            "Epoch 44, Loss G: -0.4935,Loss D: -0.0744\n",
            "Epoch 45, Loss G: -0.4891,Loss D: -0.0634\n",
            "Epoch 46, Loss G: -0.4666,Loss D: -0.0847\n",
            "Epoch 47, Loss G: -0.4897,Loss D: -0.0946\n",
            "Epoch 48, Loss G: -0.5020,Loss D: -0.0962\n",
            "Epoch 49, Loss G: -0.4736,Loss D: -0.1050\n",
            "Epoch 50, Loss G: -0.5054,Loss D: -0.0821\n",
            "Epoch 51, Loss G: -0.4117,Loss D: -0.0847\n",
            "Epoch 52, Loss G: -0.4565,Loss D: -0.1004\n",
            "Epoch 53, Loss G: -0.3825,Loss D: -0.0750\n",
            "Epoch 54, Loss G: -0.4826,Loss D: -0.0904\n",
            "Epoch 55, Loss G: -0.4188,Loss D: -0.0788\n",
            "Epoch 56, Loss G: -0.5445,Loss D: -0.0779\n",
            "Epoch 57, Loss G: -0.3967,Loss D: -0.0905\n",
            "Epoch 58, Loss G: -0.5066,Loss D: -0.0945\n",
            "Epoch 59, Loss G: -0.3728,Loss D: -0.0927\n",
            "Epoch 60, Loss G: -0.4533,Loss D: -0.0673\n",
            "Epoch 61, Loss G: -0.3745,Loss D: -0.0983\n",
            "Epoch 62, Loss G: -0.3977,Loss D: -0.0818\n",
            "Epoch 63, Loss G: -0.4112,Loss D: -0.0562\n",
            "Epoch 64, Loss G: -0.4720,Loss D: -0.0873\n",
            "Epoch 65, Loss G: -0.4461,Loss D: -0.1015\n",
            "Epoch 66, Loss G: -0.4237,Loss D: -0.0720\n",
            "Epoch 67, Loss G: -0.4608,Loss D: -0.0969\n",
            "Epoch 68, Loss G: -0.3397,Loss D: -0.0956\n",
            "Epoch 69, Loss G: -0.3932,Loss D: -0.1361\n",
            "Epoch 70, Loss G: -0.3197,Loss D: -0.0871\n",
            "Epoch 71, Loss G: -0.5042,Loss D: -0.0633\n",
            "Epoch 72, Loss G: -0.3724,Loss D: -0.0720\n",
            "Epoch 73, Loss G: -0.4901,Loss D: -0.0902\n",
            "Epoch 74, Loss G: -0.3555,Loss D: -0.0667\n",
            "Epoch 75, Loss G: -0.4248,Loss D: -0.0891\n",
            "Epoch 76, Loss G: -0.3877,Loss D: -0.0726\n",
            "Epoch 77, Loss G: -0.4078,Loss D: -0.1053\n",
            "Epoch 78, Loss G: -0.4683,Loss D: -0.0650\n",
            "Epoch 79, Loss G: -0.3764,Loss D: -0.0703\n",
            "Epoch 80, Loss G: -0.4538,Loss D: -0.0729\n",
            "Epoch 81, Loss G: -0.3343,Loss D: -0.1068\n",
            "Epoch 82, Loss G: -0.3889,Loss D: -0.1045\n",
            "Epoch 83, Loss G: -0.3819,Loss D: -0.0678\n",
            "Epoch 84, Loss G: -0.4700,Loss D: -0.0602\n",
            "Epoch 85, Loss G: -0.3565,Loss D: -0.0747\n",
            "Epoch 86, Loss G: -0.4086,Loss D: -0.0981\n",
            "Epoch 87, Loss G: -0.3345,Loss D: -0.1104\n",
            "Epoch 88, Loss G: -0.4135,Loss D: -0.0638\n",
            "Epoch 89, Loss G: -0.3652,Loss D: -0.0572\n",
            "Epoch 90, Loss G: -0.4388,Loss D: -0.0653\n",
            "Epoch 91, Loss G: -0.3706,Loss D: -0.0444\n",
            "Epoch 92, Loss G: -0.4103,Loss D: -0.0853\n",
            "Epoch 93, Loss G: -0.3325,Loss D: -0.0694\n",
            "Epoch 94, Loss G: -0.4259,Loss D: -0.0656\n",
            "Epoch 95, Loss G: -0.3845,Loss D: -0.0660\n",
            "Epoch 96, Loss G: -0.3911,Loss D: -0.0395\n",
            "Epoch 97, Loss G: -0.3921,Loss D: -0.0619\n",
            "Epoch 98, Loss G: -0.3504,Loss D: -0.0888\n",
            "Epoch 99, Loss G: -0.3888,Loss D: -0.0663\n",
            "Epoch 100, Loss G: -0.3894,Loss D: -0.0901\n",
            "Epoch 101, Loss G: -0.4247,Loss D: -0.0806\n",
            "Epoch 102, Loss G: -0.3509,Loss D: -0.0497\n",
            "Epoch 103, Loss G: -0.3577,Loss D: -0.0536\n",
            "Epoch 104, Loss G: -0.3371,Loss D: -0.0662\n",
            "Epoch 105, Loss G: -0.3890,Loss D: -0.0618\n",
            "Epoch 106, Loss G: -0.4090,Loss D: -0.0654\n",
            "Epoch 107, Loss G: -0.4400,Loss D: -0.0569\n",
            "Epoch 108, Loss G: -0.3975,Loss D: -0.0348\n",
            "Epoch 109, Loss G: -0.3866,Loss D: -0.0518\n",
            "Epoch 110, Loss G: -0.3821,Loss D: -0.0767\n",
            "Epoch 111, Loss G: -0.4177,Loss D: -0.0613\n",
            "Epoch 112, Loss G: -0.3991,Loss D: -0.0327\n",
            "Epoch 113, Loss G: -0.3785,Loss D: -0.0841\n",
            "Epoch 114, Loss G: -0.3490,Loss D: -0.0906\n",
            "Epoch 115, Loss G: -0.3374,Loss D: -0.0586\n",
            "Epoch 116, Loss G: -0.3807,Loss D: -0.0558\n",
            "Epoch 117, Loss G: -0.4041,Loss D: -0.0291\n",
            "Epoch 118, Loss G: -0.4051,Loss D: -0.0651\n",
            "Epoch 119, Loss G: -0.3901,Loss D: -0.0539\n",
            "Epoch 120, Loss G: -0.3381,Loss D: -0.0666\n",
            "Epoch 121, Loss G: -0.3805,Loss D: -0.0541\n",
            "Epoch 122, Loss G: -0.3526,Loss D: -0.0537\n",
            "Epoch 123, Loss G: -0.3846,Loss D: -0.0412\n",
            "Epoch 124, Loss G: -0.3877,Loss D: -0.0421\n",
            "Epoch 125, Loss G: -0.3462,Loss D: -0.0637\n",
            "Epoch 126, Loss G: -0.3062,Loss D: -0.0349\n",
            "Epoch 127, Loss G: -0.3831,Loss D: -0.0703\n",
            "Epoch 128, Loss G: -0.3908,Loss D: -0.0497\n",
            "Epoch 129, Loss G: -0.4141,Loss D: -0.0350\n",
            "Epoch 130, Loss G: -0.3678,Loss D: -0.0521\n",
            "Epoch 131, Loss G: -0.3324,Loss D: -0.0579\n",
            "Epoch 132, Loss G: -0.3359,Loss D: -0.0319\n",
            "Epoch 133, Loss G: -0.3803,Loss D: -0.0508\n",
            "Epoch 134, Loss G: -0.4102,Loss D: -0.0620\n",
            "Epoch 135, Loss G: -0.3751,Loss D: -0.0400\n",
            "Epoch 136, Loss G: -0.3489,Loss D: -0.0466\n",
            "Epoch 137, Loss G: -0.3450,Loss D: -0.0188\n",
            "Epoch 138, Loss G: -0.3630,Loss D: -0.0345\n",
            "Epoch 139, Loss G: -0.3974,Loss D: -0.0388\n",
            "Epoch 140, Loss G: -0.3873,Loss D: -0.0516\n",
            "Epoch 141, Loss G: -0.3456,Loss D: -0.0516\n",
            "Epoch 142, Loss G: -0.3120,Loss D: -0.0604\n",
            "Epoch 143, Loss G: -0.3497,Loss D: -0.0535\n",
            "Epoch 144, Loss G: -0.3844,Loss D: -0.0444\n",
            "Epoch 145, Loss G: -0.3639,Loss D: -0.0505\n",
            "Epoch 146, Loss G: -0.3240,Loss D: -0.0651\n",
            "Epoch 147, Loss G: -0.3333,Loss D: -0.0666\n",
            "Epoch 148, Loss G: -0.3282,Loss D: -0.0352\n",
            "Epoch 149, Loss G: -0.3555,Loss D: -0.0501\n",
            "Epoch 150, Loss G: -0.3642,Loss D: -0.0420\n",
            "Epoch 151, Loss G: -0.3635,Loss D: -0.0360\n",
            "Epoch 152, Loss G: -0.2856,Loss D: -0.0366\n",
            "Epoch 153, Loss G: -0.3199,Loss D: -0.0291\n",
            "Epoch 154, Loss G: -0.3709,Loss D: -0.0371\n",
            "Epoch 155, Loss G: -0.3327,Loss D: -0.0527\n",
            "Epoch 156, Loss G: -0.3844,Loss D: -0.0446\n",
            "Epoch 157, Loss G: -0.3627,Loss D: -0.0315\n",
            "Epoch 158, Loss G: -0.2924,Loss D: -0.0429\n",
            "Epoch 159, Loss G: -0.3561,Loss D: -0.0421\n",
            "Epoch 160, Loss G: -0.3417,Loss D: -0.0536\n",
            "Epoch 161, Loss G: -0.3236,Loss D: -0.0290\n",
            "Epoch 162, Loss G: -0.3199,Loss D: -0.0420\n",
            "Epoch 163, Loss G: -0.2750,Loss D: -0.0156\n",
            "Epoch 164, Loss G: -0.2946,Loss D: -0.0315\n",
            "Epoch 165, Loss G: -0.3144,Loss D: -0.0440\n",
            "Epoch 166, Loss G: -0.3202,Loss D: -0.0392\n",
            "Epoch 167, Loss G: -0.3071,Loss D: -0.0087\n",
            "Epoch 168, Loss G: -0.3034,Loss D: -0.0140\n",
            "Epoch 169, Loss G: -0.2817,Loss D: -0.0453\n",
            "Epoch 170, Loss G: -0.3469,Loss D: -0.0183\n",
            "Epoch 171, Loss G: -0.3768,Loss D: -0.0411\n",
            "Epoch 172, Loss G: -0.3191,Loss D: -0.0335\n",
            "Epoch 173, Loss G: -0.2636,Loss D: -0.0391\n",
            "Epoch 174, Loss G: -0.2449,Loss D: -0.0600\n",
            "Epoch 175, Loss G: -0.3255,Loss D: -0.0490\n",
            "Epoch 176, Loss G: -0.3205,Loss D: -0.0398\n",
            "Epoch 177, Loss G: -0.2895,Loss D: -0.0459\n",
            "Epoch 178, Loss G: -0.2707,Loss D: -0.0337\n",
            "Epoch 179, Loss G: -0.2505,Loss D: -0.0280\n",
            "Epoch 180, Loss G: -0.2907,Loss D: -0.0312\n",
            "Epoch 181, Loss G: -0.3092,Loss D: -0.0216\n",
            "Epoch 182, Loss G: -0.2911,Loss D: -0.0222\n",
            "Epoch 183, Loss G: -0.2666,Loss D: -0.0490\n",
            "Epoch 184, Loss G: -0.2487,Loss D: -0.0191\n",
            "Epoch 185, Loss G: -0.2799,Loss D: -0.0137\n",
            "Epoch 186, Loss G: -0.3271,Loss D: -0.0285\n",
            "Epoch 187, Loss G: -0.3163,Loss D: -0.0568\n",
            "Epoch 188, Loss G: -0.2892,Loss D: -0.0420\n",
            "Epoch 189, Loss G: -0.3047,Loss D: -0.0446\n",
            "Epoch 190, Loss G: -0.2737,Loss D: -0.0398\n",
            "Epoch 191, Loss G: -0.3183,Loss D: -0.0296\n",
            "Epoch 192, Loss G: -0.3354,Loss D: -0.0458\n",
            "Epoch 193, Loss G: -0.2676,Loss D: -0.0133\n",
            "Epoch 194, Loss G: -0.2382,Loss D: -0.0318\n",
            "Epoch 195, Loss G: -0.2621,Loss D: -0.0439\n",
            "Epoch 196, Loss G: -0.2998,Loss D: -0.0239\n",
            "Epoch 197, Loss G: -0.3126,Loss D: -0.0455\n",
            "Epoch 198, Loss G: -0.2594,Loss D: -0.0188\n",
            "Epoch 199, Loss G: -0.2487,Loss D: -0.0414\n",
            "Epoch 200, Loss G: -0.3031,Loss D: -0.0240\n",
            "Epoch 201, Loss G: -0.3111,Loss D: -0.0131\n",
            "Epoch 202, Loss G: -0.2612,Loss D: -0.0491\n",
            "Epoch 203, Loss G: -0.2769,Loss D: -0.0210\n",
            "Epoch 204, Loss G: -0.2192,Loss D: -0.0414\n",
            "Epoch 205, Loss G: -0.2654,Loss D: -0.0221\n",
            "Epoch 206, Loss G: -0.2901,Loss D: -0.0150\n",
            "Epoch 207, Loss G: -0.2675,Loss D: -0.0289\n",
            "Epoch 208, Loss G: -0.2565,Loss D: -0.0027\n",
            "Epoch 209, Loss G: -0.2433,Loss D: -0.0285\n",
            "Epoch 210, Loss G: -0.2698,Loss D: -0.0198\n",
            "Epoch 211, Loss G: -0.3187,Loss D: -0.0241\n",
            "Epoch 212, Loss G: -0.2755,Loss D: -0.0400\n",
            "Epoch 213, Loss G: -0.2471,Loss D: -0.0098\n",
            "Epoch 214, Loss G: -0.2258,Loss D: -0.0530\n",
            "Epoch 215, Loss G: -0.2384,Loss D: -0.0385\n",
            "Epoch 216, Loss G: -0.2550,Loss D: -0.0012\n",
            "Epoch 217, Loss G: -0.2818,Loss D: -0.0151\n",
            "Epoch 218, Loss G: -0.2616,Loss D: -0.0126\n",
            "Epoch 219, Loss G: -0.2230,Loss D: -0.0258\n",
            "Epoch 220, Loss G: -0.2317,Loss D: -0.0351\n",
            "Epoch 221, Loss G: -0.2783,Loss D: -0.0305\n",
            "Epoch 222, Loss G: -0.2595,Loss D: -0.0117\n",
            "Epoch 223, Loss G: -0.2321,Loss D: -0.0247\n",
            "Epoch 224, Loss G: -0.1962,Loss D: -0.0230\n",
            "Epoch 225, Loss G: -0.2769,Loss D: -0.0227\n",
            "Epoch 226, Loss G: -0.2642,Loss D: -0.0465\n",
            "Epoch 227, Loss G: -0.2416,Loss D: -0.0275\n",
            "Epoch 228, Loss G: -0.1960,Loss D: -0.0261\n",
            "Epoch 229, Loss G: -0.2380,Loss D: -0.0256\n",
            "Epoch 230, Loss G: -0.2642,Loss D:  0.0007\n",
            "Epoch 231, Loss G: -0.2745,Loss D:  0.0115\n",
            "Epoch 232, Loss G: -0.2571,Loss D: -0.0181\n",
            "Epoch 233, Loss G: -0.2261,Loss D: -0.0295\n",
            "Epoch 234, Loss G: -0.2338,Loss D: -0.0138\n",
            "Epoch 235, Loss G: -0.2856,Loss D: -0.0142\n",
            "Epoch 236, Loss G: -0.2424,Loss D: -0.0284\n",
            "Epoch 237, Loss G: -0.2272,Loss D: -0.0592\n",
            "Epoch 238, Loss G: -0.1974,Loss D: -0.0276\n",
            "Epoch 239, Loss G: -0.2334,Loss D: -0.0422\n",
            "Epoch 240, Loss G: -0.2613,Loss D: -0.0228\n",
            "Epoch 241, Loss G: -0.2276,Loss D: -0.0221\n",
            "Epoch 242, Loss G: -0.2137,Loss D: -0.0287\n",
            "Epoch 243, Loss G: -0.1935,Loss D: -0.0385\n",
            "Epoch 244, Loss G: -0.2303,Loss D: -0.0133\n",
            "Epoch 245, Loss G: -0.2414,Loss D: -0.0112\n",
            "Epoch 246, Loss G: -0.2177,Loss D: -0.0264\n",
            "Epoch 247, Loss G: -0.1879,Loss D: -0.0517\n",
            "Epoch 248, Loss G: -0.1698,Loss D: -0.0282\n",
            "Epoch 249, Loss G: -0.2338,Loss D: -0.0272\n",
            "Epoch 250, Loss G: -0.2663,Loss D: -0.0299\n",
            "Epoch 251, Loss G: -0.2300,Loss D: -0.0087\n",
            "Epoch 252, Loss G: -0.1717,Loss D: -0.0535\n",
            "Epoch 253, Loss G: -0.1736,Loss D: -0.0508\n",
            "Epoch 254, Loss G: -0.1943,Loss D: -0.0266\n",
            "Epoch 255, Loss G: -0.2138,Loss D: -0.0317\n",
            "Epoch 256, Loss G: -0.2055,Loss D: -0.0116\n",
            "Epoch 257, Loss G: -0.1741,Loss D: -0.0184\n",
            "Epoch 258, Loss G: -0.1895,Loss D: -0.0237\n",
            "Epoch 259, Loss G: -0.2381,Loss D: -0.0403\n",
            "Epoch 260, Loss G: -0.2034,Loss D: -0.0164\n",
            "Epoch 261, Loss G: -0.1753,Loss D:  0.0089\n",
            "Epoch 262, Loss G: -0.1608,Loss D: -0.0274\n",
            "Epoch 263, Loss G: -0.1661,Loss D: -0.0310\n",
            "Epoch 264, Loss G: -0.2251,Loss D: -0.0261\n",
            "Epoch 265, Loss G: -0.2264,Loss D: -0.0265\n",
            "Epoch 266, Loss G: -0.1560,Loss D: -0.0010\n",
            "Epoch 267, Loss G: -0.1416,Loss D: -0.0422\n",
            "Epoch 268, Loss G: -0.1945,Loss D: -0.0381\n",
            "Epoch 269, Loss G: -0.1932,Loss D:  0.0161\n",
            "Epoch 270, Loss G: -0.1583,Loss D:  0.0146\n",
            "Epoch 271, Loss G: -0.1317,Loss D: -0.0523\n",
            "Epoch 272, Loss G: -0.1728,Loss D: -0.0376\n",
            "Epoch 273, Loss G: -0.1733,Loss D: -0.0099\n",
            "Epoch 274, Loss G: -0.1412,Loss D: -0.0382\n",
            "Epoch 275, Loss G: -0.1316,Loss D: -0.0201\n",
            "Epoch 276, Loss G: -0.1617,Loss D: -0.0167\n",
            "Epoch 277, Loss G: -0.1911,Loss D: -0.0030\n",
            "Epoch 278, Loss G: -0.1815,Loss D: -0.0274\n",
            "Epoch 279, Loss G: -0.1458,Loss D: -0.0045\n",
            "Epoch 280, Loss G: -0.1137,Loss D: -0.0360\n",
            "Epoch 281, Loss G: -0.1387,Loss D: -0.0601\n",
            "Epoch 282, Loss G: -0.1739,Loss D:  0.0040\n",
            "Epoch 283, Loss G: -0.1844,Loss D: -0.0207\n",
            "Epoch 284, Loss G: -0.1146,Loss D: -0.0303\n",
            "Epoch 285, Loss G: -0.1326,Loss D: -0.0317\n",
            "Epoch 286, Loss G: -0.1812,Loss D: -0.0080\n",
            "Epoch 287, Loss G: -0.1828,Loss D: -0.0080\n",
            "Epoch 288, Loss G: -0.1226,Loss D: -0.0346\n",
            "Epoch 289, Loss G: -0.1099,Loss D:  0.0055\n",
            "Epoch 290, Loss G: -0.1327,Loss D: -0.0055\n",
            "Epoch 291, Loss G: -0.1567,Loss D:  0.0002\n",
            "Epoch 292, Loss G: -0.1402,Loss D: -0.0164\n",
            "Epoch 293, Loss G: -0.1003,Loss D: -0.0082\n",
            "Epoch 294, Loss G: -0.1316,Loss D: -0.0116\n",
            "Epoch 295, Loss G: -0.1630,Loss D: -0.0029\n",
            "Epoch 296, Loss G: -0.1502,Loss D: -0.0026\n",
            "Epoch 297, Loss G: -0.0976,Loss D: -0.0546\n",
            "Epoch 298, Loss G: -0.0862,Loss D: -0.0382\n",
            "Epoch 299, Loss G: -0.1450,Loss D: -0.0249\n",
            "Epoch 300, Loss G: -0.1308,Loss D: -0.0147\n"
          ]
        }
      ]
    },
    {
      "cell_type": "code",
      "source": [
        "def norm_ci_samp_size_gan2(pop_n, pop_mean, pop_sd, sim_n, model):\n",
        "    ## Generate random data\n",
        "    x = sim_gan_data2(pop_mu=pop_mean, \n",
        "             pop_sd=pop_sd, \n",
        "             pop_n=pop_n, \n",
        "             sim_n=sim_n,\n",
        "             model=model)\n",
        "    ## Analyze generated/simulated data\n",
        "    res = scipy.stats.ttest_1samp(x, popmean=mean, axis=0, \n",
        "                        nan_policy='propagate', \n",
        "                        alternative='two-sided')\n",
        "    \n",
        "    ## Extract the estimate and CI\n",
        "    p_ll, p_ul = res.confidence_interval(0.95)\n",
        "    p_hat = np.mean(x)\n",
        "    \n",
        "    # Return the estimate and the CI to the user\n",
        "    # [] make it a list instead of scalar\n",
        "    out = pd.DataFrame({'mean': [p_hat],\n",
        "                        'll95_mean': [p_ll],\n",
        "                        'ul95_mean': [p_ul]})\n",
        "    \n",
        "    return(out)"
      ],
      "metadata": {
        "id": "t3w8dju7KkW2"
      },
      "id": "t3w8dju7KkW2",
      "execution_count": 25,
      "outputs": []
    },
    {
      "cell_type": "code",
      "source": [
        "## Replicate above function number of simulation replicate times\n",
        "\n",
        "# parameter available \n",
        "pop_n = 1000 ## This is the most interesting parameter to vary...\n",
        "pop_mean = 0\n",
        "pop_sd = 1\n",
        "sim_n = int(np.ceil(samp_size_cont_ci(alpha=0.05, width=0.6, sigma=1)))\n",
        "\n",
        "## Number simulation replicates\n",
        "n_rep = 2000\n",
        "\n",
        "## Simulate n_rep copies of sample size trials\n",
        "sim_out = []\n",
        "\n",
        "#Record start time\n",
        "t0 = time()\n",
        "\n",
        "## Loop over number simulation replicates, storing results in list\n",
        "for i in trange(0, n_rep):\n",
        "    sim_out.append(norm_ci_samp_size_gan2(pop_n=pop_n, pop_mean=pop_mean, pop_sd=pop_sd, sim_n=sim_n, model=model))\n",
        "\n",
        "#Record end time\n",
        "t1 = time()\n",
        "\n",
        "#Calculate runtime\n",
        "runtime = t1 - t0\n",
        "print(f'runtime is {runtime}')\n",
        "\n",
        "### Aggregate results into dataframe\n",
        "sim_df = pd.concat(sim_out)\n",
        "\n",
        "#Calculate means of each column in the array #axis means column mean \n",
        "sim_means = np.mean(sim_df, axis=0)\n",
        "print(f'sim_means is {sim_means} +/- {np.std(sim_df, axis=0)}')\n",
        "\n",
        "#Calculate the width of the confidence interval\n",
        "ci_width = sim_means[2] - sim_means[1]\n",
        "print(f'ci_width is {ci_width}')"
      ],
      "metadata": {
        "id": "zS6phtMDKrSq",
        "colab": {
          "base_uri": "https://localhost:8080/",
          "height": 202,
          "referenced_widgets": [
            "14898b4c00f14da3a8382cf7fe7af022",
            "5e0e6e56b64343c29c0cd0d7eb2c3942",
            "842555bf8ebb4f318e1e851a550894a9",
            "51efa8b5c8fa4e9694fdce747a90eaa3",
            "0e8cb79a444a4b30b43d50ff982e792c",
            "d17c91561d5d4db89c0618889ee20dff",
            "6a95202ef7a3415480535aa5ffe2a769",
            "7751d54cfdd54bf0ad603b3b4aba6e6d",
            "841500b5de4044e7bb17c9651956cbde",
            "c53ca9c153f744b08de9a9bd5297d4fb",
            "45b93404ba064f1a98c00ff0a1a49a05"
          ]
        },
        "outputId": "117742bb-c2b8-4dd4-ed1d-56a090d16338"
      },
      "id": "zS6phtMDKrSq",
      "execution_count": 26,
      "outputs": [
        {
          "output_type": "display_data",
          "data": {
            "text/plain": [
              "  0%|          | 0/2000 [00:00<?, ?it/s]"
            ],
            "application/vnd.jupyter.widget-view+json": {
              "version_major": 2,
              "version_minor": 0,
              "model_id": "14898b4c00f14da3a8382cf7fe7af022"
            }
          },
          "metadata": {}
        },
        {
          "output_type": "stream",
          "name": "stdout",
          "text": [
            "runtime is 58.94261646270752\n",
            "sim_means is mean        -0.013714\n",
            "ll95_mean   -0.309848\n",
            "ul95_mean    0.282421\n",
            "dtype: float64 +/- mean         0.145635\n",
            "ll95_mean    0.151294\n",
            "ul95_mean    0.146620\n",
            "dtype: float64\n",
            "ci_width is 0.5922695625321005\n"
          ]
        }
      ]
    },
    {
      "cell_type": "markdown",
      "source": [
        "- runtime is 17.135186433792114\n",
        "- sim_means is mean        -0.000508\n",
        "- ll95_mean   -0.306213\n",
        "- ul95_mean    0.305197\n",
        "- dtype: float64\n",
        "- ci_width is 0.6114101213569088"
      ],
      "metadata": {
        "id": "meO0_9XzKXrt"
      },
      "id": "meO0_9XzKXrt"
    },
    {
      "cell_type": "code",
      "execution_count": null,
      "id": "fc26e048",
      "metadata": {
        "id": "fc26e048"
      },
      "outputs": [],
      "source": [
        "##############################################\n",
        "##\n",
        "## Properties/info on the Jupyter Notebook session\n",
        "##\n",
        "#############################################"
      ]
    }
  ],
  "metadata": {
    "kernelspec": {
      "display_name": "Python 3 (ipykernel)",
      "language": "python",
      "name": "python3"
    },
    "language_info": {
      "codemirror_mode": {
        "name": "ipython",
        "version": 3
      },
      "file_extension": ".py",
      "mimetype": "text/x-python",
      "name": "python",
      "nbconvert_exporter": "python",
      "pygments_lexer": "ipython3",
      "version": "3.10.9"
    },
    "colab": {
      "provenance": [],
      "toc_visible": true,
      "include_colab_link": true
    },
    "gpuClass": "standard",
    "widgets": {
      "application/vnd.jupyter.widget-state+json": {
        "14898b4c00f14da3a8382cf7fe7af022": {
          "model_module": "@jupyter-widgets/controls",
          "model_name": "HBoxModel",
          "model_module_version": "1.5.0",
          "state": {
            "_dom_classes": [],
            "_model_module": "@jupyter-widgets/controls",
            "_model_module_version": "1.5.0",
            "_model_name": "HBoxModel",
            "_view_count": null,
            "_view_module": "@jupyter-widgets/controls",
            "_view_module_version": "1.5.0",
            "_view_name": "HBoxView",
            "box_style": "",
            "children": [
              "IPY_MODEL_5e0e6e56b64343c29c0cd0d7eb2c3942",
              "IPY_MODEL_842555bf8ebb4f318e1e851a550894a9",
              "IPY_MODEL_51efa8b5c8fa4e9694fdce747a90eaa3"
            ],
            "layout": "IPY_MODEL_0e8cb79a444a4b30b43d50ff982e792c"
          }
        },
        "5e0e6e56b64343c29c0cd0d7eb2c3942": {
          "model_module": "@jupyter-widgets/controls",
          "model_name": "HTMLModel",
          "model_module_version": "1.5.0",
          "state": {
            "_dom_classes": [],
            "_model_module": "@jupyter-widgets/controls",
            "_model_module_version": "1.5.0",
            "_model_name": "HTMLModel",
            "_view_count": null,
            "_view_module": "@jupyter-widgets/controls",
            "_view_module_version": "1.5.0",
            "_view_name": "HTMLView",
            "description": "",
            "description_tooltip": null,
            "layout": "IPY_MODEL_d17c91561d5d4db89c0618889ee20dff",
            "placeholder": "​",
            "style": "IPY_MODEL_6a95202ef7a3415480535aa5ffe2a769",
            "value": "100%"
          }
        },
        "842555bf8ebb4f318e1e851a550894a9": {
          "model_module": "@jupyter-widgets/controls",
          "model_name": "FloatProgressModel",
          "model_module_version": "1.5.0",
          "state": {
            "_dom_classes": [],
            "_model_module": "@jupyter-widgets/controls",
            "_model_module_version": "1.5.0",
            "_model_name": "FloatProgressModel",
            "_view_count": null,
            "_view_module": "@jupyter-widgets/controls",
            "_view_module_version": "1.5.0",
            "_view_name": "ProgressView",
            "bar_style": "success",
            "description": "",
            "description_tooltip": null,
            "layout": "IPY_MODEL_7751d54cfdd54bf0ad603b3b4aba6e6d",
            "max": 2000,
            "min": 0,
            "orientation": "horizontal",
            "style": "IPY_MODEL_841500b5de4044e7bb17c9651956cbde",
            "value": 2000
          }
        },
        "51efa8b5c8fa4e9694fdce747a90eaa3": {
          "model_module": "@jupyter-widgets/controls",
          "model_name": "HTMLModel",
          "model_module_version": "1.5.0",
          "state": {
            "_dom_classes": [],
            "_model_module": "@jupyter-widgets/controls",
            "_model_module_version": "1.5.0",
            "_model_name": "HTMLModel",
            "_view_count": null,
            "_view_module": "@jupyter-widgets/controls",
            "_view_module_version": "1.5.0",
            "_view_name": "HTMLView",
            "description": "",
            "description_tooltip": null,
            "layout": "IPY_MODEL_c53ca9c153f744b08de9a9bd5297d4fb",
            "placeholder": "​",
            "style": "IPY_MODEL_45b93404ba064f1a98c00ff0a1a49a05",
            "value": " 2000/2000 [00:58&lt;00:00, 39.84it/s]"
          }
        },
        "0e8cb79a444a4b30b43d50ff982e792c": {
          "model_module": "@jupyter-widgets/base",
          "model_name": "LayoutModel",
          "model_module_version": "1.2.0",
          "state": {
            "_model_module": "@jupyter-widgets/base",
            "_model_module_version": "1.2.0",
            "_model_name": "LayoutModel",
            "_view_count": null,
            "_view_module": "@jupyter-widgets/base",
            "_view_module_version": "1.2.0",
            "_view_name": "LayoutView",
            "align_content": null,
            "align_items": null,
            "align_self": null,
            "border": null,
            "bottom": null,
            "display": null,
            "flex": null,
            "flex_flow": null,
            "grid_area": null,
            "grid_auto_columns": null,
            "grid_auto_flow": null,
            "grid_auto_rows": null,
            "grid_column": null,
            "grid_gap": null,
            "grid_row": null,
            "grid_template_areas": null,
            "grid_template_columns": null,
            "grid_template_rows": null,
            "height": null,
            "justify_content": null,
            "justify_items": null,
            "left": null,
            "margin": null,
            "max_height": null,
            "max_width": null,
            "min_height": null,
            "min_width": null,
            "object_fit": null,
            "object_position": null,
            "order": null,
            "overflow": null,
            "overflow_x": null,
            "overflow_y": null,
            "padding": null,
            "right": null,
            "top": null,
            "visibility": null,
            "width": null
          }
        },
        "d17c91561d5d4db89c0618889ee20dff": {
          "model_module": "@jupyter-widgets/base",
          "model_name": "LayoutModel",
          "model_module_version": "1.2.0",
          "state": {
            "_model_module": "@jupyter-widgets/base",
            "_model_module_version": "1.2.0",
            "_model_name": "LayoutModel",
            "_view_count": null,
            "_view_module": "@jupyter-widgets/base",
            "_view_module_version": "1.2.0",
            "_view_name": "LayoutView",
            "align_content": null,
            "align_items": null,
            "align_self": null,
            "border": null,
            "bottom": null,
            "display": null,
            "flex": null,
            "flex_flow": null,
            "grid_area": null,
            "grid_auto_columns": null,
            "grid_auto_flow": null,
            "grid_auto_rows": null,
            "grid_column": null,
            "grid_gap": null,
            "grid_row": null,
            "grid_template_areas": null,
            "grid_template_columns": null,
            "grid_template_rows": null,
            "height": null,
            "justify_content": null,
            "justify_items": null,
            "left": null,
            "margin": null,
            "max_height": null,
            "max_width": null,
            "min_height": null,
            "min_width": null,
            "object_fit": null,
            "object_position": null,
            "order": null,
            "overflow": null,
            "overflow_x": null,
            "overflow_y": null,
            "padding": null,
            "right": null,
            "top": null,
            "visibility": null,
            "width": null
          }
        },
        "6a95202ef7a3415480535aa5ffe2a769": {
          "model_module": "@jupyter-widgets/controls",
          "model_name": "DescriptionStyleModel",
          "model_module_version": "1.5.0",
          "state": {
            "_model_module": "@jupyter-widgets/controls",
            "_model_module_version": "1.5.0",
            "_model_name": "DescriptionStyleModel",
            "_view_count": null,
            "_view_module": "@jupyter-widgets/base",
            "_view_module_version": "1.2.0",
            "_view_name": "StyleView",
            "description_width": ""
          }
        },
        "7751d54cfdd54bf0ad603b3b4aba6e6d": {
          "model_module": "@jupyter-widgets/base",
          "model_name": "LayoutModel",
          "model_module_version": "1.2.0",
          "state": {
            "_model_module": "@jupyter-widgets/base",
            "_model_module_version": "1.2.0",
            "_model_name": "LayoutModel",
            "_view_count": null,
            "_view_module": "@jupyter-widgets/base",
            "_view_module_version": "1.2.0",
            "_view_name": "LayoutView",
            "align_content": null,
            "align_items": null,
            "align_self": null,
            "border": null,
            "bottom": null,
            "display": null,
            "flex": null,
            "flex_flow": null,
            "grid_area": null,
            "grid_auto_columns": null,
            "grid_auto_flow": null,
            "grid_auto_rows": null,
            "grid_column": null,
            "grid_gap": null,
            "grid_row": null,
            "grid_template_areas": null,
            "grid_template_columns": null,
            "grid_template_rows": null,
            "height": null,
            "justify_content": null,
            "justify_items": null,
            "left": null,
            "margin": null,
            "max_height": null,
            "max_width": null,
            "min_height": null,
            "min_width": null,
            "object_fit": null,
            "object_position": null,
            "order": null,
            "overflow": null,
            "overflow_x": null,
            "overflow_y": null,
            "padding": null,
            "right": null,
            "top": null,
            "visibility": null,
            "width": null
          }
        },
        "841500b5de4044e7bb17c9651956cbde": {
          "model_module": "@jupyter-widgets/controls",
          "model_name": "ProgressStyleModel",
          "model_module_version": "1.5.0",
          "state": {
            "_model_module": "@jupyter-widgets/controls",
            "_model_module_version": "1.5.0",
            "_model_name": "ProgressStyleModel",
            "_view_count": null,
            "_view_module": "@jupyter-widgets/base",
            "_view_module_version": "1.2.0",
            "_view_name": "StyleView",
            "bar_color": null,
            "description_width": ""
          }
        },
        "c53ca9c153f744b08de9a9bd5297d4fb": {
          "model_module": "@jupyter-widgets/base",
          "model_name": "LayoutModel",
          "model_module_version": "1.2.0",
          "state": {
            "_model_module": "@jupyter-widgets/base",
            "_model_module_version": "1.2.0",
            "_model_name": "LayoutModel",
            "_view_count": null,
            "_view_module": "@jupyter-widgets/base",
            "_view_module_version": "1.2.0",
            "_view_name": "LayoutView",
            "align_content": null,
            "align_items": null,
            "align_self": null,
            "border": null,
            "bottom": null,
            "display": null,
            "flex": null,
            "flex_flow": null,
            "grid_area": null,
            "grid_auto_columns": null,
            "grid_auto_flow": null,
            "grid_auto_rows": null,
            "grid_column": null,
            "grid_gap": null,
            "grid_row": null,
            "grid_template_areas": null,
            "grid_template_columns": null,
            "grid_template_rows": null,
            "height": null,
            "justify_content": null,
            "justify_items": null,
            "left": null,
            "margin": null,
            "max_height": null,
            "max_width": null,
            "min_height": null,
            "min_width": null,
            "object_fit": null,
            "object_position": null,
            "order": null,
            "overflow": null,
            "overflow_x": null,
            "overflow_y": null,
            "padding": null,
            "right": null,
            "top": null,
            "visibility": null,
            "width": null
          }
        },
        "45b93404ba064f1a98c00ff0a1a49a05": {
          "model_module": "@jupyter-widgets/controls",
          "model_name": "DescriptionStyleModel",
          "model_module_version": "1.5.0",
          "state": {
            "_model_module": "@jupyter-widgets/controls",
            "_model_module_version": "1.5.0",
            "_model_name": "DescriptionStyleModel",
            "_view_count": null,
            "_view_module": "@jupyter-widgets/base",
            "_view_module_version": "1.2.0",
            "_view_name": "StyleView",
            "description_width": ""
          }
        }
      }
    },
    "accelerator": "GPU"
  },
  "nbformat": 4,
  "nbformat_minor": 5
}